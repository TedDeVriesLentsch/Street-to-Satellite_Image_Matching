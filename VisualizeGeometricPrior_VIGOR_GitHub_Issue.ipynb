{
 "cells": [
  {
   "cell_type": "markdown",
   "id": "3a2236a3",
   "metadata": {},
   "source": [
    "# Cross-View Visualization Tool\n",
    "\n",
    "Author: Ted de Vries Lentsch\n",
    "\n",
    "First version on February 24, 2022\n",
    "\n",
    "Last update on March 9, 2022"
   ]
  },
  {
   "cell_type": "markdown",
   "id": "6ed0db7a",
   "metadata": {},
   "source": [
    "## Import necessary libraries"
   ]
  },
  {
   "cell_type": "code",
   "execution_count": null,
   "id": "c99f18df",
   "metadata": {},
   "outputs": [],
   "source": [
    "# standard libraries\n",
    "import cv2\n",
    "import matplotlib.pyplot as plt\n",
    "import matplotlib.gridspec as gridspec\n",
    "import os\n",
    "\n",
    "# widgets\n",
    "import ipywidgets"
   ]
  },
  {
   "cell_type": "markdown",
   "id": "f7896c8b",
   "metadata": {},
   "source": [
    "## VIGOR dataset"
   ]
  },
  {
   "cell_type": "markdown",
   "id": "8703cd75",
   "metadata": {},
   "source": [
    "## 1. Explore dataset"
   ]
  },
  {
   "cell_type": "markdown",
   "id": "762b8f7f",
   "metadata": {},
   "source": [
    "### 1.1. Load data\n",
    "Below, the names of the images are obtained for the indicated city. The VIGOR dataset is in the same folder as this notebook."
   ]
  },
  {
   "cell_type": "code",
   "execution_count": null,
   "id": "bfe5b6d2",
   "metadata": {},
   "outputs": [],
   "source": [
    "# VIGOR dataset info\n",
    "vigor_dir            = \"VIGOR\"\n",
    "cities               = [\"Chicago\",\"NewYork\",\"SanFrancisco\",\"Seattle\"]\n",
    "streetfolder_name    = \"panorama\"\n",
    "satellitefolder_name = \"satellite\"\n",
    "combinationinfo_name = \"splits\"\n",
    "\n",
    "city_name = cities[3] # CHANGE THIS TO SHOW OTHER CITY"
   ]
  },
  {
   "cell_type": "code",
   "execution_count": null,
   "id": "bd851297",
   "metadata": {},
   "outputs": [],
   "source": [
    "# paths\n",
    "root_dir            = os.getcwd()\n",
    "dataset_dir         = os.path.join(root_dir, vigor_dir)\n",
    "streetfolder_dir    = os.path.join(dataset_dir, city_name, streetfolder_name)\n",
    "satellitefolder_dir = os.path.join(dataset_dir, city_name, satellitefolder_name)\n",
    "combination_dir     = os.path.join(dataset_dir, combinationinfo_name, city_name, \"pano_label_balanced.txt\")"
   ]
  },
  {
   "cell_type": "code",
   "execution_count": null,
   "id": "aa8c3458",
   "metadata": {},
   "outputs": [],
   "source": [
    "# get image names\n",
    "street_img_names    = list(sorted(os.listdir(streetfolder_dir)))\n",
    "satellite_img_names = list(sorted(os.listdir(satellitefolder_dir)))\n",
    "\n",
    "print('The city has {} street images and {} satellite images!'.format(len(street_img_names), len(satellite_img_names)))"
   ]
  },
  {
   "cell_type": "markdown",
   "id": "2406491b",
   "metadata": {},
   "source": [
    "### 1.2. Show images\n",
    "Below, the images of the VIGOR dataset are displayed with an interactive widget. The number of image pairs that can be shown with the widget has been set to 100 because the notebook freezes when this number is too high (like 20k). The semi-positive satellite images are also plotted."
   ]
  },
  {
   "cell_type": "code",
   "execution_count": null,
   "id": "11b6694d",
   "metadata": {},
   "outputs": [],
   "source": [
    "def get_satellite_and_deltas(street_img_name, combination_dir):\n",
    "    data_list = []\n",
    "    with open(combination_dir, 'r') as file:\n",
    "        for line in file.readlines():\n",
    "            data = line.split(' ')\n",
    "            if data[0]==street_img_name:\n",
    "                for idx in range(4):\n",
    "                    data_list.append((data[3*idx+1], float(data[3*idx+2]), float(data[3*idx+3])))\n",
    "                break\n",
    "    return data_list"
   ]
  },
  {
   "cell_type": "code",
   "execution_count": null,
   "id": "dcb2cd99",
   "metadata": {},
   "outputs": [],
   "source": [
    "def plot_img(streetfolder_dir, satellitefolder_dir, combination_dir, street_img_name):  \n",
    "    # load images\n",
    "    data_list = get_satellite_and_deltas(street_img_name, combination_dir)\n",
    "    street_img = cv2.imread(os.path.join(streetfolder_dir, street_img_name))[:,:,::-1]\n",
    "    satellite_img1 = cv2.imread(os.path.join(satellitefolder_dir, data_list[0][0]))[:,:,::-1]\n",
    "    satellite_img2 = cv2.imread(os.path.join(satellitefolder_dir, data_list[1][0]))[:,:,::-1]\n",
    "    satellite_img3 = cv2.imread(os.path.join(satellitefolder_dir, data_list[2][0]))[:,:,::-1]\n",
    "    satellite_img4 = cv2.imread(os.path.join(satellitefolder_dir, data_list[3][0]))[:,:,::-1]    \n",
    "    W, H, A = street_img.shape[1], street_img.shape[0], satellite_img1.shape[0]\n",
    "    \n",
    "    # get deltas\n",
    "    delta1 = data_list[0][1:]\n",
    "    delta2 = data_list[1][1:]\n",
    "    delta3 = data_list[2][1:]\n",
    "    delta4 = data_list[3][1:]\n",
    "    \n",
    "    # create plot\n",
    "    fig = plt.figure(figsize=[15, 11])\n",
    "    grid = plt.GridSpec(2, 3, wspace=0.1, hspace=0.05)\n",
    "    ax1 = plt.subplot(grid[0, :2])\n",
    "    ax2 = plt.subplot(grid[0, 2])\n",
    "    ax3 = plt.subplot(grid[1, 0])\n",
    "    ax4 = plt.subplot(grid[1, 1])\n",
    "    ax5 = plt.subplot(grid[1, 2])\n",
    "    \n",
    "    # plot street view\n",
    "    ax1.imshow(street_img, extent=(0, W, H, 0), zorder=-10)\n",
    "    ax1.set_title('Street View', pad=10, fontsize=24)\n",
    "    ax1.set_xlim(0, W)\n",
    "    ax1.set_ylim(H, 0)  \n",
    "\n",
    "    # plot satellite view (positive)\n",
    "    ax2.imshow(satellite_img1, extent=(0, A, A, 0), zorder=-10)\n",
    "    ax2.set_title('Satellite View (Positive)', pad=16, fontsize=24)\n",
    "    ax2.set_xlim(0, A)\n",
    "    ax2.set_ylim(A, 0)\n",
    "    \n",
    "    # plot satellite view (semi-positive 1)\n",
    "    ax3.imshow(satellite_img2, extent=(0, A, A, 0), zorder=-10)\n",
    "    ax3.set_title('Semi-Positive 1', pad=10, fontsize=24)\n",
    "    ax3.set_xlim(0, A)\n",
    "    ax3.set_ylim(A, 0)\n",
    "\n",
    "    # plot satellite view (semi-positive 2)\n",
    "    ax4.imshow(satellite_img3, extent=(0, A, A, 0), zorder=-10)\n",
    "    ax4.set_title('Semi-Positive 2', pad=10, fontsize=24)\n",
    "    ax4.set_xlim(0, A)\n",
    "    ax4.set_ylim(A, 0)\n",
    "\n",
    "    # plot satellite view (semi-positive 3)\n",
    "    ax5.imshow(satellite_img4, extent=(0, A, A, 0), zorder=-10)\n",
    "    ax5.set_title('Semi-Positive 3', pad=10, fontsize=24)\n",
    "    ax5.set_xlim(0, A)\n",
    "    ax5.set_ylim(A, 0)\n",
    "    \n",
    "    # plot rays\n",
    "    colors = ['springgreen', 'deepskyblue', 'orange', 'magenta'] # North, East, South, West \n",
    "    xc1, yc1 = A/2-delta1[1], A/2+delta1[0] # see GitHub of VIGOR for this formula\n",
    "    xc2, yc2 = A/2-delta2[1], A/2+delta2[0] # see GitHub of VIGOR for this formula\n",
    "    xc3, yc3 = A/2-delta3[1], A/2+delta3[0] # see GitHub of VIGOR for this formula\n",
    "    xc4, yc4 = A/2-delta4[1], A/2+delta4[0] # see GitHub of VIGOR for this formula\n",
    "    \n",
    "    ax1.vlines(x=0.00*W, ymin=0, ymax=H, color=colors[2], linewidth=3, zorder=10) # South\n",
    "    ax1.vlines(x=0.25*W, ymin=0, ymax=H, color=colors[3], linewidth=3, zorder=10) # West\n",
    "    ax1.vlines(x=0.50*W, ymin=0, ymax=H, color=colors[0], linewidth=3, zorder=10) # North\n",
    "    ax1.vlines(x=0.75*W, ymin=0, ymax=H, color=colors[1], linewidth=3, zorder=10) # East\n",
    "    ax1.vlines(x=1.00*W, ymin=0, ymax=H, color=colors[2], linewidth=3, zorder=10) # South\n",
    "\n",
    "    ax2.scatter(xc1, yc1, s=150, color=\"yellow\", zorder=20) # Center\n",
    "    ax2.vlines(x=xc1, ymin=0, ymax=yc1, color=colors[0], linewidth=3, zorder=10) # North\n",
    "    ax2.hlines(y=yc1, xmin=xc1, xmax=A, color=colors[1], linewidth=3, zorder=10) # East\n",
    "    ax2.vlines(x=xc1, ymin=yc1, ymax=A, color=colors[2], linewidth=3, zorder=10) # South\n",
    "    ax2.hlines(y=yc1, xmin=0, xmax=xc1, color=colors[3], linewidth=3, zorder=10) # West\n",
    "\n",
    "    ax3.scatter(xc2, yc2, s=150, color=\"yellow\", zorder=20) # Center\n",
    "    ax3.vlines(x=xc2, ymin=0, ymax=yc2, color=colors[0], linewidth=3, zorder=10) # North\n",
    "    ax3.hlines(y=yc2, xmin=xc2, xmax=A, color=colors[1], linewidth=3, zorder=10) # East\n",
    "    ax3.vlines(x=xc2, ymin=yc2, ymax=A, color=colors[2], linewidth=3, zorder=10) # South\n",
    "    ax3.hlines(y=yc2, xmin=0, xmax=xc2, color=colors[3], linewidth=3, zorder=10) # West\n",
    "\n",
    "    ax4.scatter(xc3, yc3, s=150, color=\"yellow\", zorder=20) # Center\n",
    "    ax4.vlines(x=xc3, ymin=0, ymax=yc3, color=colors[0], linewidth=3, zorder=10) # North\n",
    "    ax4.hlines(y=yc3, xmin=xc3, xmax=A, color=colors[1], linewidth=3, zorder=10) # East\n",
    "    ax4.vlines(x=xc3, ymin=yc3, ymax=A, color=colors[2], linewidth=3, zorder=10) # South\n",
    "    ax4.hlines(y=yc3, xmin=0, xmax=xc3, color=colors[3], linewidth=3, zorder=10) # West\n",
    "\n",
    "    ax5.scatter(xc4, yc4, s=150, color=\"yellow\", zorder=20) # Center\n",
    "    ax5.vlines(x=xc4, ymin=0, ymax=yc4, color=colors[0], linewidth=3, zorder=10) # North\n",
    "    ax5.hlines(y=yc4, xmin=xc4, xmax=A, color=colors[1], linewidth=3, zorder=10) # East\n",
    "    ax5.vlines(x=xc4, ymin=yc4, ymax=A, color=colors[2], linewidth=3, zorder=10) # South\n",
    "    ax5.hlines(y=yc4, xmin=0, xmax=xc4, color=colors[3], linewidth=3, zorder=10) # West    \n",
    "    \n",
    "    # disable ticks\n",
    "    ax1.axis('off')\n",
    "    ax2.axis('off')\n",
    "    ax3.axis('off')\n",
    "    ax4.axis('off')\n",
    "    ax5.axis('off')\n",
    "\n",
    "    plt.show()\n",
    "\n",
    "    # print image names\n",
    "    print(\"Street view:                      {}\".format(street_img_name))\n",
    "    print(\"Satellite view (positive):        {}\".format(data_list[0][0]))\n",
    "    print(\"Satellite view (semi-positive 1): {}\".format(data_list[1][0]))\n",
    "    print(\"Satellite view (semi-positive 2): {}\".format(data_list[2][0]))\n",
    "    print(\"Satellite view (semi-positive 3): {}\".format(data_list[3][0]))"
   ]
  },
  {
   "cell_type": "code",
   "execution_count": null,
   "id": "b7580287",
   "metadata": {},
   "outputs": [],
   "source": [
    "ipywidgets.interact(lambda idx: plot_img(streetfolder_dir=streetfolder_dir,\n",
    "                                         satellitefolder_dir=satellitefolder_dir,\n",
    "                                         combination_dir=combination_dir,\n",
    "                                         street_img_name=street_img_names[idx]),\n",
    "                                idx=range(min(len(street_img_names), 100)))"
   ]
  }
 ],
 "metadata": {
  "kernelspec": {
   "display_name": "Python 3 (ipykernel)",
   "language": "python",
   "name": "python3"
  },
  "language_info": {
   "codemirror_mode": {
    "name": "ipython",
    "version": 3
   },
   "file_extension": ".py",
   "mimetype": "text/x-python",
   "name": "python",
   "nbconvert_exporter": "python",
   "pygments_lexer": "ipython3",
   "version": "3.8.12"
  }
 },
 "nbformat": 4,
 "nbformat_minor": 5
}
